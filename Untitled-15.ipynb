{
 "cells": [
  {
   "cell_type": "code",
   "execution_count": 14,
   "metadata": {},
   "outputs": [
    {
     "name": "stdout",
     "output_type": "stream",
     "text": [
      "17-08-1945 00:00:00 selisih 28782 hari\n",
      "11-11-1785 00:00:00 selisih 87134 hari\n",
      "08-06-1783 00:00:00 selisih 88021 hari\n",
      "02-05-1889 00:00:00 selisih 49342 hari\n"
     ]
    }
   ],
   "source": [
    "# LATIHAN 1\n",
    "\n",
    "import re\n",
    "from datetime import datetime, timedelta\n",
    "\n",
    "def convert_date_format(date_string):\n",
    "    return datetime.strptime(date_string, \"%Y-%m-%d\").strftime(\"%d-%m-%Y\")\n",
    "\n",
    "def calculate_date_difference(date_string):\n",
    "    target_date = datetime.strptime(date_string, \"%Y-%m-%d\")\n",
    "    current_date = datetime.now()\n",
    "    difference = current_date - target_date\n",
    "    return difference.days\n",
    "\n",
    "def process_text(text):\n",
    "    pattern = r\"\\d{4}-\\d{2}-\\d{2}\"\n",
    "    matches = re.findall(pattern, text)\n",
    "    \n",
    "    result = []\n",
    "    for match in matches:\n",
    "        converted_date = convert_date_format(match)\n",
    "        difference = calculate_date_difference(match)\n",
    "        result.append(f\"{converted_date} 00:00:00 selisih {difference} hari\")\n",
    "    \n",
    "    return \"\\n\".join(result)\n",
    "\n",
    "text = \"\"\"\n",
    "Pada tanggal 1945-08-17 Indonesia merdeka. Indonesia memiliki beberapa pahlawan nasional, \n",
    "seperti Pangeran Diponegoro (TL: 1785-11-11), Pattimura (TL: 1783-06-08) dan Ki Hajar Dewantara (1889-05-02).\n",
    "\"\"\"\n",
    "\n",
    "result = process_text(text)\n",
    "print(result)"
   ]
  },
  {
   "cell_type": "code",
   "execution_count": 7,
   "metadata": {},
   "outputs": [
    {
     "name": "stdout",
     "output_type": "stream",
     "text": [
      "anton@mail.com username: anton , password: viXz4D7q\n",
      "budi@gmail.co.id username: budi , password: ID43KHRd\n",
      "slamet@getnada.com username: slamet , password: iqmCU9T0\n",
      "matahari@tokopedia.com username: matahari , password: VScSkJtu\n"
     ]
    }
   ],
   "source": [
    "# LATIHAN 2\n",
    "\n",
    "import re\n",
    "import random\n",
    "import string\n",
    "\n",
    "text = \"\"\"\n",
    "Berikut adalah daftar email dan nama pengguna dari mailing list:\n",
    "anton@mail.com dimiliki oleh antonius\n",
    "budi@gmail.co.id dimiliki oleh budi anwari\n",
    "slamet@getnada.com dimiliki oleh slamet slumut\n",
    "matahari@tokopedia.com dimiliki oleh toko matahari\n",
    "\"\"\"\n",
    "\n",
    "emails = re.findall(r'\\b[A-Za-z0-9._%+-]+@[A-Za-z0-9.-]+\\.[A-Z|a-z]{2,}\\b', text)\n",
    "\n",
    "result = []\n",
    "\n",
    "for email in emails:\n",
    "    username = email.split('@')[0]\n",
    " \n",
    "    password = ''.join(random.choices(string.ascii_letters + string.digits, k=8))\n",
    " \n",
    "    result.append(f\"{email} username: {username} , password: {password}\")\n",
    "\n",
    "for res in result:\n",
    "    print(res)"
   ]
  }
 ],
 "metadata": {
  "kernelspec": {
   "display_name": "Python 3",
   "language": "python",
   "name": "python3"
  },
  "language_info": {
   "codemirror_mode": {
    "name": "ipython",
    "version": 3
   },
   "file_extension": ".py",
   "mimetype": "text/x-python",
   "name": "python",
   "nbconvert_exporter": "python",
   "pygments_lexer": "ipython3",
   "version": "3.12.0"
  }
 },
 "nbformat": 4,
 "nbformat_minor": 2
}
